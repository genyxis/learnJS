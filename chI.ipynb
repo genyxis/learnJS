{
 "cells": [
  {
   "cell_type": "markdown",
   "metadata": {},
   "source": [
    "## Bits\n",
    "- fundamental unit of data\n",
    "- Two valued data - zeros and ones\n",
    "- Data (memory) stored in a computer\n",
    "- Electric charge or signals\n",
    "- Any piece of information is reduced to zeroes and ones \n",
    "- 8 bits > 1 byte\n",
    "- 1024 bits > kilobyte (kb)\n",
    "\n"
   ]
  },
  {
   "cell_type": "markdown",
   "metadata": {},
   "source": [
    "## Values\n",
    "- Chunk of bits representing pieces of information in JS\n",
    "- Every value has a type that determines its role\n",
    "- Can be number or peices of texts\n"
   ]
  },
  {
   "cell_type": "markdown",
   "metadata": {},
   "source": [
    "## Numbers\n",
    "- JS uses 64 bits (fixed) to store single number value\n",
    "- different patterns can be made with this value\n",
    "- the number of different numbers that can be reprenseted is     limited\n"
   ]
  },
  {
   "cell_type": "markdown",
   "metadata": {},
   "source": [
    "## Strings\n",
    "- used to represent text\n",
    "- written enclosing in quotes\n",
    "- single quote, double quote, backticks used to mark strings\n",
    "- backslash (\\) indicates character after that has special meaning > escaping the character\n",
    "- backslash quote will not end the string\n",
    "- n characters after backslash is interpreted as a newline.\n",
    "- t after backslash means a tab character\n",
    "- to put a backslash in quote just as a backslash, two backslash will collapse to result one string value\n",
    "- JS is based on Unicode standard\n",
    "- The standard assigns a number virtually to every character\n",
    "- String can be described by a sequence of numbers\n",
    "- JS's represnetation uses 16 bits  per string element\n"
   ]
  }
 ],
 "metadata": {
  "kernelspec": {
   "display_name": "JavaScript (Node.js)",
   "language": "javascript",
   "name": "javascript"
  },
  "language_info": {
   "name": "javascript"
  },
  "orig_nbformat": 4
 },
 "nbformat": 4,
 "nbformat_minor": 2
}
