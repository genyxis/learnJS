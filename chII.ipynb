{
 "cells": [
  {
   "cell_type": "markdown",
   "metadata": {},
   "source": [
    "## Expressions and Statements\n",
    "- fragment of code that produces a value > expression\n",
    "- literally written value is expression\n",
    "- JS statement corresponds to a full sentence\n",
    "- program is a list of statements\n",
    "- statement > expression;\n"
   ]
  }
 ],
 "metadata": {
  "kernelspec": {
   "display_name": "JavaScript (Node.js)",
   "language": "javascript",
   "name": "javascript"
  },
  "language_info": {
   "name": "javascript"
  },
  "orig_nbformat": 4
 },
 "nbformat": 4,
 "nbformat_minor": 2
}
